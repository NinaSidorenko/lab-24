{
 "cells": [
  {
   "cell_type": "markdown",
   "id": "4176f103",
   "metadata": {},
   "source": [
    "# Лабораторная работа 24"
   ]
  },
  {
   "cell_type": "markdown",
   "id": "121c772d",
   "metadata": {},
   "source": [
    "# Исследование характеристик источника постоянного тока"
   ]
  },
  {
   "cell_type": "markdown",
   "id": "9efe1321",
   "metadata": {},
   "source": [
    "## Цель лабораторной работы"
   ]
  },
  {
   "cell_type": "markdown",
   "id": "c928372c",
   "metadata": {},
   "source": [
    "Исследование характеристик источника постоянного тока, определения\n",
    "его ЭДС, внутреннего сопротивления, а также оптимального\n",
    "сопротивления нагрузки."
   ]
  },
  {
   "cell_type": "markdown",
   "id": "ab44556f",
   "metadata": {},
   "source": [
    "## Экспериментальное оборудование"
   ]
  },
  {
   "cell_type": "markdown",
   "id": "68f363e3",
   "metadata": {},
   "source": [
    "На металлическом стенде установлены: источник тока высокоомный, источник тока низкоомный (батарейный блок), датчик тока, датчик\n",
    "напряжения, переменный резистор (1кОм) и переменный резистор\n",
    "(12Ом). Соединение цепи нагрузки с источником постоянного тока\n",
    "осуществляется на короткое время при включении кнопочного\n",
    "выключателя.\n",
    "Коммутация элементов схемы осуществляется проводами с\n",
    "наконечниками, соединителями и соединительными элементам.\n",
    "Подключение датчиков к компьютеру осуществляется с помощью USBкабелей."
   ]
  },
  {
   "cell_type": "markdown",
   "id": "a2c58e40",
   "metadata": {},
   "source": [
    "## Теоретическая часть"
   ]
  },
  {
   "cell_type": "markdown",
   "id": "76b82020",
   "metadata": {},
   "source": [
    "**Электрический ток** - упорядоченнрое движение электрическиих зарядов."
   ]
  },
  {
   "cell_type": "markdown",
   "id": "4b217bcd",
   "metadata": {},
   "source": [
    "Силой тока называется скалярная величина числено равная\n",
    "электрическому заряду, проходящему через поперечное сечение\n",
    "проводника за единицу времени."
   ]
  },
  {
   "cell_type": "markdown",
   "id": "92a27357",
   "metadata": {},
   "source": [
    "$$ I = \\frac{dq}{dt},  $$"
   ]
  },
  {
   "cell_type": "markdown",
   "id": "fe42b143",
   "metadata": {},
   "source": [
    "dq – электрический заряд, проходящий через поперечное сечение\n",
    "проводника за время dt"
   ]
  },
  {
   "cell_type": "markdown",
   "id": "1be0e229",
   "metadata": {},
   "source": [
    "**Электродвижущая сила (ЭДС)**, действующая в электрической цепи\n",
    "или на её участке, численно равна работе совершаемой сторонними\n",
    "силами при перемещении по электрической цепи или по её участку\n",
    "единичного положительного заряда."
   ]
  },
  {
   "cell_type": "markdown",
   "id": "bab9d167",
   "metadata": {},
   "source": [
    "$$\\mathcal{E} = \\frac{A_{ст.}}{q} $$"
   ]
  },
  {
   "cell_type": "markdown",
   "id": "f9e9667d",
   "metadata": {},
   "source": [
    "**Закон Ома в интегральной форме**"
   ]
  },
  {
   "cell_type": "markdown",
   "id": "f1443522",
   "metadata": {},
   "source": [
    "$$ I = \\frac{U}{R} $$"
   ]
  },
  {
   "cell_type": "markdown",
   "id": "47aeab50",
   "metadata": {},
   "source": [
    "Экспериментально установлено, что сила тока в проводнике\n",
    "пропорциональна падению напряжения U и обратно пропорциональна\n",
    "сопротивлению проводника R"
   ]
  },
  {
   "cell_type": "markdown",
   "id": "d6331a2e",
   "metadata": {},
   "source": [
    "Участок цепи, содержащий ЭДС, называется неоднородным (рис. 5) и для\n",
    "него закон Ома имеет вид (если электрическая цепь замкнута):"
   ]
  },
  {
   "cell_type": "markdown",
   "id": "392e378f",
   "metadata": {},
   "source": [
    "$$ I = \\frac {\\mathcal{E}}{R+r} $$"
   ]
  },
  {
   "cell_type": "markdown",
   "id": "caf5e5d1",
   "metadata": {},
   "source": [
    "**Закон Джоуля - Ленца.** Количество\n",
    "выделяющегося в проводнике тепла пропорционально его сопротивлению,\n",
    "квадрату силы тока и времени"
   ]
  },
  {
   "cell_type": "markdown",
   "id": "c7632180",
   "metadata": {},
   "source": [
    "$$ Q = RI^2t $$"
   ]
  },
  {
   "cell_type": "markdown",
   "id": "d22378c4",
   "metadata": {},
   "source": [
    "**Мощность тока**"
   ]
  },
  {
   "cell_type": "markdown",
   "id": "7d379291",
   "metadata": {},
   "source": [
    "$$ N = \\frac{dQ}{dt}=I^2R=\\frac{U^2}{R} $$"
   ]
  },
  {
   "cell_type": "markdown",
   "id": "b68eb76f",
   "metadata": {},
   "source": [
    "Согласно закону Ома, сила тока в замкнутой цепи:"
   ]
  },
  {
   "cell_type": "markdown",
   "id": "f8435ad9",
   "metadata": {},
   "source": [
    "$$IR+Ir=\\mathcal{E}$$"
   ]
  },
  {
   "cell_type": "markdown",
   "id": "784528e9",
   "metadata": {},
   "source": [
    "$$U_1=-rI+\\mathcal{E}$$"
   ]
  },
  {
   "cell_type": "markdown",
   "id": "640d810c",
   "metadata": {},
   "source": [
    "U1 – падение напряжения во внешней цепи"
   ]
  },
  {
   "cell_type": "markdown",
   "id": "5d83c7d0",
   "metadata": {},
   "source": [
    "**Полезная мощность** – это мощность, выделяемая во внешней цепи и\n",
    "она равна"
   ]
  },
  {
   "cell_type": "markdown",
   "id": "3e550f6b",
   "metadata": {},
   "source": [
    "$$N_1=I^2P=IU_1=\\frac{\\mathcal{E}^2R}{{(R+r)}^2}$$"
   ]
  },
  {
   "cell_type": "markdown",
   "id": "5def245f",
   "metadata": {},
   "source": [
    "## Отчёт по коду"
   ]
  },
  {
   "cell_type": "markdown",
   "id": "bc1807bb",
   "metadata": {},
   "source": [
    "Данный код принимает на вдох файлы расширения csv с таблицами данных для обработки."
   ]
  },
  {
   "cell_type": "markdown",
   "id": "1acca515",
   "metadata": {},
   "source": [
    "На основе данных о силе тока и напряжении высчитываются значения сопротивления в цепи и можношости в цепи. Строится таблица с полученными значениями."
   ]
  },
  {
   "cell_type": "markdown",
   "id": "579fa6d8",
   "metadata": {},
   "source": [
    "Также код строится график на основе полученных точек и прямой вида Y = kX+B на основе округления методом наименьших квадратов. "
   ]
  },
  {
   "cell_type": "markdown",
   "id": "5d33bb7d",
   "metadata": {},
   "source": [
    "С помощью формул выше высчитывает внутреннее сопротивление источника тока, ЭДС источника, ток короткого замыкания и максимальную можность источника тока."
   ]
  },
  {
   "cell_type": "markdown",
   "id": "a2a1f0fc",
   "metadata": {},
   "source": [
    "В ходе работы были написаны функции для:\n",
    "1. Считывания данных из csv-файла\n",
    "2. Первичной обработки данных для дальнейшей работы с ними\n",
    "3. Подсчёта сопротивления и мощности цепи\n",
    "4. построения графика по данным из табоицы и по формуле при округлении по методу наименьших квадратов\n",
    "5. Рассчёта тока короткого замыкания и максимальной мощности"
   ]
  },
  {
   "cell_type": "markdown",
   "id": "c204e17e",
   "metadata": {},
   "source": [
    "Данный код позволяет автоматизровать подсчёт необходимых данных и построение графиков."
   ]
  },
  {
   "cell_type": "markdown",
   "id": "db8d5a94",
   "metadata": {},
   "source": [
    "## Препроцессинг данных"
   ]
  },
  {
   "cell_type": "markdown",
   "id": "b45a32ed",
   "metadata": {},
   "source": [
    "Код подключает необходимые билиотеки и проводит обработку данных из таблиц с данными для работы со значениями силы тока и напряжения, полученных при эксперименте."
   ]
  },
  {
   "cell_type": "code",
   "execution_count": 48,
   "id": "53cdcf11",
   "metadata": {},
   "outputs": [],
   "source": [
    "from csv import *\n",
    "import pandas as pd\n",
    "import matplotlib.pyplot as plt\n",
    "import numpy as np"
   ]
  },
  {
   "cell_type": "code",
   "execution_count": 66,
   "id": "676da69f",
   "metadata": {},
   "outputs": [],
   "source": [
    "def read_csv_file (path):\n",
    "    with open (file_path, 'r') as file:\n",
    "        data = file.readlines()\n",
    "    return data\n",
    "\n",
    "def preprocessing_data(data):\n",
    "    data = data [1:]\n",
    "    for i in range (len(data)):\n",
    "        data[i] = data[i].split(';')\n",
    "        data[i][0] = float (data[i][0])\n",
    "        data[i][1] = float (data[i][1][:-1])\n",
    "    return data"
   ]
  },
  {
   "cell_type": "markdown",
   "id": "ac2c1c93",
   "metadata": {},
   "source": [
    "## Исследование характеристик высокоомного тока"
   ]
  },
  {
   "cell_type": "markdown",
   "id": "3d642023",
   "metadata": {},
   "source": [
    "Считывание данных из файла:"
   ]
  },
  {
   "cell_type": "code",
   "execution_count": 71,
   "id": "6d33245e",
   "metadata": {},
   "outputs": [
    {
     "name": "stdout",
     "output_type": "stream",
     "text": [
      "[[17.46, 0.007], [17.41, 0.007], [17.2, 0.009], [16.82, 0.014], [14.08, 0.041], [0.13, 0.348], [0.1, 0.299]]\n"
     ]
    }
   ],
   "source": [
    "file_path = \"2_изм.csv\"\n",
    "data = read_csv_file (file_path)\n",
    "\n",
    "data = preprocessing_data(data)\n",
    "print (data)"
   ]
  },
  {
   "cell_type": "markdown",
   "id": "8bc44f28",
   "metadata": {},
   "source": [
    "Подсчёт значений сопротивления в цепи и мощности:"
   ]
  },
  {
   "cell_type": "code",
   "execution_count": 73,
   "id": "ce9b271a",
   "metadata": {},
   "outputs": [
    {
     "name": "stdout",
     "output_type": "stream",
     "text": [
      "[[17.46, 0.007, 2494.2857, 0.1222], [17.41, 0.007, 2487.1429, 0.1219], [17.2, 0.009, 1911.1111, 0.1548], [16.82, 0.014, 1201.4286, 0.2355], [14.08, 0.041, 343.4146, 0.5773], [0.13, 0.348, 0.3736, 0.0452], [0.1, 0.299, 0.3344, 0.0299]]\n"
     ]
    }
   ],
   "source": [
    "I_real=[]\n",
    "U_real=[]\n",
    "R_real=[]\n",
    "P_real=[]\n",
    "\n",
    "for i in range (len(data)):\n",
    "    I_real.append (data[i][1])\n",
    "    U_real.append (data[i][0])\n",
    "    R_real.append (round(data[i][0]/data[i][1], 4))\n",
    "    P_real.append (round(data[i][0]*data[i][1], 4))\n",
    "    data[i].append (round(data[i][0]/data[i][1], 4))\n",
    "    data[i].append (round(data[i][0]*data[i][1], 4))\n",
    "    \n",
    "print (data)\n",
    "\n",
    "columns = ['U, B', 'I, A', 'R, Ом', 'P, Вт']\n",
    "tab = pd.DataFrame(columns=columns)\n",
    "for i in range(len(data)):\n",
    "    line = data[i]\n",
    "    temp_df = pd.DataFrame([line], columns=columns)\n",
    "    tab = pd.concat([tab, temp_df], ignore_index=True)"
   ]
  },
  {
   "cell_type": "code",
   "execution_count": 74,
   "id": "ff48dd6a",
   "metadata": {},
   "outputs": [
    {
     "data": {
      "text/html": [
       "<div>\n",
       "<style scoped>\n",
       "    .dataframe tbody tr th:only-of-type {\n",
       "        vertical-align: middle;\n",
       "    }\n",
       "\n",
       "    .dataframe tbody tr th {\n",
       "        vertical-align: top;\n",
       "    }\n",
       "\n",
       "    .dataframe thead th {\n",
       "        text-align: right;\n",
       "    }\n",
       "</style>\n",
       "<table border=\"1\" class=\"dataframe\">\n",
       "  <thead>\n",
       "    <tr style=\"text-align: right;\">\n",
       "      <th></th>\n",
       "      <th>U, B</th>\n",
       "      <th>I, A</th>\n",
       "      <th>R, Ом</th>\n",
       "      <th>P, Вт</th>\n",
       "    </tr>\n",
       "  </thead>\n",
       "  <tbody>\n",
       "    <tr>\n",
       "      <th>0</th>\n",
       "      <td>17.46</td>\n",
       "      <td>0.007</td>\n",
       "      <td>2494.2857</td>\n",
       "      <td>0.1222</td>\n",
       "    </tr>\n",
       "    <tr>\n",
       "      <th>1</th>\n",
       "      <td>17.41</td>\n",
       "      <td>0.007</td>\n",
       "      <td>2487.1429</td>\n",
       "      <td>0.1219</td>\n",
       "    </tr>\n",
       "    <tr>\n",
       "      <th>2</th>\n",
       "      <td>17.20</td>\n",
       "      <td>0.009</td>\n",
       "      <td>1911.1111</td>\n",
       "      <td>0.1548</td>\n",
       "    </tr>\n",
       "    <tr>\n",
       "      <th>3</th>\n",
       "      <td>16.82</td>\n",
       "      <td>0.014</td>\n",
       "      <td>1201.4286</td>\n",
       "      <td>0.2355</td>\n",
       "    </tr>\n",
       "    <tr>\n",
       "      <th>4</th>\n",
       "      <td>14.08</td>\n",
       "      <td>0.041</td>\n",
       "      <td>343.4146</td>\n",
       "      <td>0.5773</td>\n",
       "    </tr>\n",
       "    <tr>\n",
       "      <th>5</th>\n",
       "      <td>0.13</td>\n",
       "      <td>0.348</td>\n",
       "      <td>0.3736</td>\n",
       "      <td>0.0452</td>\n",
       "    </tr>\n",
       "    <tr>\n",
       "      <th>6</th>\n",
       "      <td>0.10</td>\n",
       "      <td>0.299</td>\n",
       "      <td>0.3344</td>\n",
       "      <td>0.0299</td>\n",
       "    </tr>\n",
       "  </tbody>\n",
       "</table>\n",
       "</div>"
      ],
      "text/plain": [
       "    U, B   I, A      R, Ом   P, Вт\n",
       "0  17.46  0.007  2494.2857  0.1222\n",
       "1  17.41  0.007  2487.1429  0.1219\n",
       "2  17.20  0.009  1911.1111  0.1548\n",
       "3  16.82  0.014  1201.4286  0.2355\n",
       "4  14.08  0.041   343.4146  0.5773\n",
       "5   0.13  0.348     0.3736  0.0452\n",
       "6   0.10  0.299     0.3344  0.0299"
      ]
     },
     "execution_count": 74,
     "metadata": {},
     "output_type": "execute_result"
    }
   ],
   "source": [
    "tab"
   ]
  },
  {
   "cell_type": "markdown",
   "id": "6c0b85ee",
   "metadata": {},
   "source": [
    "График P(R) после округления по **методу наименьших квадратов**"
   ]
  },
  {
   "cell_type": "code",
   "execution_count": 75,
   "id": "39b6abc0",
   "metadata": {},
   "outputs": [
    {
     "data": {
      "image/png": "[encoded data removed]",
      "text/plain": [
       "<Figure size 640x480 with 1 Axes>"
      ]
     },
     "metadata": {},
     "output_type": "display_data"
    }
   ],
   "source": [
    "I1 = np.arange(0, 0.36, 0.01)\n",
    "U1 = 17.4-53.3*I1\n",
    "\n",
    "plt.xlabel('I, A')\n",
    "plt.ylabel('U, B')\n",
    "plt.title ('U(I)')\n",
    "plt.plot(I1, U1)\n",
    "plt.plot(I_real, U_real, \"ro\")\n",
    "plt.show()"
   ]
  },
  {
   "cell_type": "markdown",
   "id": "c362ad8a",
   "metadata": {},
   "source": [
    "$$U_1=-rI+\\mathcal{E}$$"
   ]
  },
  {
   "cell_type": "markdown",
   "id": "237c158a",
   "metadata": {},
   "source": [
    "$$ \\mathcal{E} = 17.4 В$$"
   ]
  },
  {
   "cell_type": "markdown",
   "id": "eaa5b6fc",
   "metadata": {},
   "source": [
    "$$ r = 53.3 Ом $$"
   ]
  },
  {
   "cell_type": "markdown",
   "id": "0170891a",
   "metadata": {},
   "source": [
    "$$ I_{короткогозамыкания} = \\frac {\\mathcal{E}}{r} $$"
   ]
  },
  {
   "cell_type": "code",
   "execution_count": 76,
   "id": "8adbf6dd",
   "metadata": {},
   "outputs": [
    {
     "name": "stdout",
     "output_type": "stream",
     "text": [
      "Ток короткого замыкания: 0.3265\n"
     ]
    }
   ],
   "source": [
    "print (\"Ток короткого замыкания:\", end = \" \")\n",
    "print (round(17.4/53.3, 4))"
   ]
  },
  {
   "cell_type": "markdown",
   "id": "c10655f0",
   "metadata": {},
   "source": [
    "График P(R) после округления по **методу наименьших квадратов**"
   ]
  },
  {
   "cell_type": "code",
   "execution_count": 77,
   "id": "3c5295b3",
   "metadata": {
    "scrolled": true
   },
   "outputs": [
    {
     "data": {
      "image/png": "[encoded data removed]",
      "text/plain": [
       "<Figure size 640x480 with 1 Axes>"
      ]
     },
     "metadata": {},
     "output_type": "display_data"
    }
   ],
   "source": [
    "R1 = np.arange(0, 2400, 0.01)\n",
    "P1  = 0.303-0.000066*R1\n",
    "\n",
    "plt.xlabel('R, Ом')\n",
    "plt.ylabel('P, Вт')\n",
    "plt.title ('P(R)')\n",
    "plt.plot(R1, P1)\n",
    "plt.plot(R_real, P_real, 'ro')\n",
    "plt.show()"
   ]
  },
  {
   "cell_type": "markdown",
   "id": "078ff465",
   "metadata": {},
   "source": [
    "**Теоретически** мощность максимальна при R = r = 53.3 Ом"
   ]
  },
  {
   "cell_type": "markdown",
   "id": "b5ffd751",
   "metadata": {},
   "source": [
    "$$P_{max} = \\frac{\\mathcal{E}^2}{r} = \\frac {17.4^2}{4*53.3} $$"
   ]
  },
  {
   "cell_type": "code",
   "execution_count": 85,
   "id": "21b984b5",
   "metadata": {},
   "outputs": [
    {
     "name": "stdout",
     "output_type": "stream",
     "text": [
      "Максимальная мощность: 1.4201\n"
     ]
    }
   ],
   "source": [
    "print (\"Максимальная мощность:\", end = \" \")\n",
    "print (round(17.4**2/(4*53.3), 4))"
   ]
  },
  {
   "cell_type": "markdown",
   "id": "90e10d27",
   "metadata": {},
   "source": [
    "## Исследование характеристик низкоомного тока"
   ]
  },
  {
   "cell_type": "markdown",
   "id": "d2e9a07d",
   "metadata": {},
   "source": [
    "Считывание данных из файла:"
   ]
  },
  {
   "cell_type": "code",
   "execution_count": 80,
   "id": "9b5a6710",
   "metadata": {},
   "outputs": [
    {
     "name": "stdout",
     "output_type": "stream",
     "text": [
      "[[3.82, 0.348], [3.69, 0.446], [3.57, 0.645], [3.16, 1.175], [2.32, 2.086]]\n"
     ]
    }
   ],
   "source": [
    "file_path = \"1_изм.csv\"\n",
    "data2 = read_csv_file (file_path)\n",
    "\n",
    "data2 = preprocessing_data(data2)\n",
    "print (data2)"
   ]
  },
  {
   "cell_type": "markdown",
   "id": "86782254",
   "metadata": {},
   "source": [
    "Подсчёт значений сопротивления в цепи и мощности:"
   ]
  },
  {
   "cell_type": "code",
   "execution_count": 81,
   "id": "12bb5d0a",
   "metadata": {},
   "outputs": [
    {
     "name": "stdout",
     "output_type": "stream",
     "text": [
      "[[3.82, 0.348, 10.977, 1.3294], [3.69, 0.446, 8.2735, 1.6457], [3.57, 0.645, 5.5349, 2.3026], [3.16, 1.175, 2.6894, 3.713], [2.32, 2.086, 1.1122, 4.8395]]\n"
     ]
    }
   ],
   "source": [
    "I_real1 =[]\n",
    "U_real1 = []\n",
    "R_real1 = []\n",
    "P_real1 =[]\n",
    "\n",
    "for i in range (len(data2)):\n",
    "    I_real1.append (data2[i][1])\n",
    "    U_real1.append(data2[i][0])\n",
    "    R_real1.append (round(data2[i][0]/data2[i][1], 4))\n",
    "    P_real1.append (round(data2[i][0]*data2[i][1], 4))\n",
    "    data2[i].append (round(data2[i][0]/data2[i][1], 4))\n",
    "    data2[i].append (round(data2[i][0]*data2[i][1], 4))\n",
    "    \n",
    "print (data2)\n",
    "\n",
    "columns = ['U, B', 'I, A', 'R. Ом', 'P, Вт']\n",
    "tab1 = pd.DataFrame(columns=columns)\n",
    "for i in range(len(data2)):\n",
    "    line = data2[i]\n",
    "    temp_df = pd.DataFrame([line], columns=columns)\n",
    "    tab1 = pd.concat([tab1, temp_df], ignore_index=True)"
   ]
  },
  {
   "cell_type": "code",
   "execution_count": 82,
   "id": "e1373c61",
   "metadata": {},
   "outputs": [
    {
     "data": {
      "text/html": [
       "<div>\n",
       "<style scoped>\n",
       "    .dataframe tbody tr th:only-of-type {\n",
       "        vertical-align: middle;\n",
       "    }\n",
       "\n",
       "    .dataframe tbody tr th {\n",
       "        vertical-align: top;\n",
       "    }\n",
       "\n",
       "    .dataframe thead th {\n",
       "        text-align: right;\n",
       "    }\n",
       "</style>\n",
       "<table border=\"1\" class=\"dataframe\">\n",
       "  <thead>\n",
       "    <tr style=\"text-align: right;\">\n",
       "      <th></th>\n",
       "      <th>U, B</th>\n",
       "      <th>I, A</th>\n",
       "      <th>R. Ом</th>\n",
       "      <th>P, Вт</th>\n",
       "    </tr>\n",
       "  </thead>\n",
       "  <tbody>\n",
       "    <tr>\n",
       "      <th>0</th>\n",
       "      <td>3.82</td>\n",
       "      <td>0.348</td>\n",
       "      <td>10.9770</td>\n",
       "      <td>1.3294</td>\n",
       "    </tr>\n",
       "    <tr>\n",
       "      <th>1</th>\n",
       "      <td>3.69</td>\n",
       "      <td>0.446</td>\n",
       "      <td>8.2735</td>\n",
       "      <td>1.6457</td>\n",
       "    </tr>\n",
       "    <tr>\n",
       "      <th>2</th>\n",
       "      <td>3.57</td>\n",
       "      <td>0.645</td>\n",
       "      <td>5.5349</td>\n",
       "      <td>2.3026</td>\n",
       "    </tr>\n",
       "    <tr>\n",
       "      <th>3</th>\n",
       "      <td>3.16</td>\n",
       "      <td>1.175</td>\n",
       "      <td>2.6894</td>\n",
       "      <td>3.7130</td>\n",
       "    </tr>\n",
       "    <tr>\n",
       "      <th>4</th>\n",
       "      <td>2.32</td>\n",
       "      <td>2.086</td>\n",
       "      <td>1.1122</td>\n",
       "      <td>4.8395</td>\n",
       "    </tr>\n",
       "  </tbody>\n",
       "</table>\n",
       "</div>"
      ],
      "text/plain": [
       "   U, B   I, A    R. Ом   P, Вт\n",
       "0  3.82  0.348  10.9770  1.3294\n",
       "1  3.69  0.446   8.2735  1.6457\n",
       "2  3.57  0.645   5.5349  2.3026\n",
       "3  3.16  1.175   2.6894  3.7130\n",
       "4  2.32  2.086   1.1122  4.8395"
      ]
     },
     "execution_count": 82,
     "metadata": {},
     "output_type": "execute_result"
    }
   ],
   "source": [
    "tab1"
   ]
  },
  {
   "cell_type": "markdown",
   "id": "836e622e",
   "metadata": {},
   "source": [
    "График U(I) после округления по **методу наименьших квадратов**"
   ]
  },
  {
   "cell_type": "code",
   "execution_count": 84,
   "id": "30903c5b",
   "metadata": {},
   "outputs": [
    {
     "data": {
      "image/png": "[encoded data removed]",
      "text/plain": [
       "<Figure size 640x480 with 1 Axes>"
      ]
     },
     "metadata": {},
     "output_type": "display_data"
    }
   ],
   "source": [
    "I2 = np.arange(0, 2, 0.01)\n",
    "U2 = 4.11-0.847*I2\n",
    "\n",
    "\n",
    "plt.xlabel('I, A')\n",
    "plt.ylabel('U, B')\n",
    "plt.title ('U(I)')\n",
    "plt.plot (I_real1, U_real1, 'ro')\n",
    "plt.plot(I2, U2)\n",
    "plt.show()"
   ]
  },
  {
   "cell_type": "markdown",
   "id": "dda210a4",
   "metadata": {},
   "source": [
    "Согласно коду и формуле:"
   ]
  },
  {
   "cell_type": "markdown",
   "id": "2fca7060",
   "metadata": {},
   "source": [
    "$$U_1=-rI+\\mathcal{E}$$\n"
   ]
  },
  {
   "cell_type": "markdown",
   "id": "3f865126",
   "metadata": {},
   "source": [
    "$$ \\mathcal{E} = 4.11В$$"
   ]
  },
  {
   "cell_type": "markdown",
   "id": "92480758",
   "metadata": {},
   "source": [
    "$$ r = 0.847 Ом $$\n"
   ]
  },
  {
   "cell_type": "markdown",
   "id": "ca951e0b",
   "metadata": {},
   "source": [
    "$$ I_{короткогозамыкания} = \\frac {\\mathcal{E}}{r} $$"
   ]
  },
  {
   "cell_type": "code",
   "execution_count": 86,
   "id": "5f78dc7a",
   "metadata": {},
   "outputs": [
    {
     "name": "stdout",
     "output_type": "stream",
     "text": [
      "Ток короткого замыкания: 4.8524\n"
     ]
    }
   ],
   "source": [
    "print (\"Ток короткого замыкания:\", end = \" \")\n",
    "print (round(4.11/0.847, 4))"
   ]
  },
  {
   "cell_type": "markdown",
   "id": "1495bd60",
   "metadata": {},
   "source": [
    "График P(R) после округления по **методу наименьших квадратов**"
   ]
  },
  {
   "cell_type": "code",
   "execution_count": 88,
   "id": "19145077",
   "metadata": {},
   "outputs": [
    {
     "data": {
      "image/png": "[encoded data removed]",
      "text/plain": [
       "<Figure size 640x480 with 1 Axes>"
      ]
     },
     "metadata": {},
     "output_type": "display_data"
    }
   ],
   "source": [
    "R2 = np.arange(0, 11, 0.01)\n",
    "P2  = 4.78-0.352*R2\n",
    "\n",
    "plt.xlabel('R, Ом')\n",
    "plt.ylabel('P, Вт')\n",
    "plt.title ('P(R)')\n",
    "plt.plot (R_real1, P_real1, 'ro')\n",
    "plt.plot(R2, P2)\n",
    "plt.show()"
   ]
  },
  {
   "cell_type": "markdown",
   "id": "f370f2d1",
   "metadata": {},
   "source": [
    "**Теоретически** мощность максимальна при R = r = 0.847 Ом"
   ]
  },
  {
   "cell_type": "markdown",
   "id": "6b64151d",
   "metadata": {},
   "source": [
    "$$P_{max} = \\frac{\\mathcal{E}^2}{r} = \\frac {4.11^2}{4*0.847} $$"
   ]
  },
  {
   "cell_type": "code",
   "execution_count": 89,
   "id": "1fd920ae",
   "metadata": {},
   "outputs": [
    {
     "name": "stdout",
     "output_type": "stream",
     "text": [
      "Максимальная мощность: 4.9859\n"
     ]
    }
   ],
   "source": [
    "print (\"Максимальная мощность:\", end = \" \")\n",
    "print (round(4.11**2/(4*0.847), 4))"
   ]
  },
  {
   "cell_type": "code",
   "execution_count": null,
   "id": "6587b67c",
   "metadata": {},
   "outputs": [],
   "source": []
  }
 ],
 "metadata": {
  "kernelspec": {
   "display_name": "Python 3 (ipykernel)",
   "language": "python",
   "name": "python3"
  },
  "language_info": {
   "codemirror_mode": {
    "name": "ipython",
    "version": 3
   },
   "file_extension": ".py",
   "mimetype": "text/x-python",
   "name": "python",
   "nbconvert_exporter": "python",
   "pygments_lexer": "ipython3",
   "version": "3.11.5"
  }
 },
 "nbformat": 4,
 "nbformat_minor": 5
}
